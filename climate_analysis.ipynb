{
 "cells": [
  {
   "cell_type": "code",
   "execution_count": 69,
   "metadata": {},
   "outputs": [],
   "source": [
    "import pandas as pd\n",
    "from random import randint, sample\n",
    "import datetime as dt\n",
    "import matplotlib.pyplot as plt\n",
    "import numpy as np\n",
    "\n",
    "# Import SQL Alchemy\n",
    "import sqlalchemy\n",
    "from sqlalchemy.sql import func\n",
    "from sqlalchemy.orm import Session\\\n",
    "\n",
    "# Import and establish Base for which classes will be constructed \n",
    "from sqlalchemy.ext.automap import automap_base\n",
    "Base = automap_base()"
   ]
  },
  {
   "cell_type": "code",
   "execution_count": 2,
   "metadata": {},
   "outputs": [],
   "source": [
    "engine = sqlalchemy.create_engine(\"sqlite:///sql/hawaii.sqlite\", echo = False)\n",
    "session = Session(bind = engine)"
   ]
  },
  {
   "cell_type": "code",
   "execution_count": 3,
   "metadata": {},
   "outputs": [],
   "source": [
    "Base.prepare(engine, reflect = True)"
   ]
  },
  {
   "cell_type": "code",
   "execution_count": 4,
   "metadata": {},
   "outputs": [
    {
     "data": {
      "text/plain": [
       "['prcp_measurements', 'stations', 'temp_measurements']"
      ]
     },
     "execution_count": 4,
     "metadata": {},
     "output_type": "execute_result"
    }
   ],
   "source": [
    "Base.classes.keys()"
   ]
  },
  {
   "cell_type": "code",
   "execution_count": 5,
   "metadata": {},
   "outputs": [
    {
     "data": {
      "text/plain": [
       "[('USC00519397', 'WAIKIKI 717.2, HI US', 21.2716, -157.8168, 3.0),\n",
       " ('USC00513117', 'KANEOHE 838.1, HI US', 21.4234, -157.8015, 14.6),\n",
       " ('USC00514830', 'KUALOA RANCH HEADQUARTERS 886.9, HI US', 21.5213, -157.8374, 7.0),\n",
       " ('USC00517948', 'PEARL CITY, HI US', 21.3934, -157.9751, 11.9),\n",
       " ('USC00518838', 'UPPER WAHIAWA 874.3, HI US', 21.4992, -158.0111, 306.6),\n",
       " ('USC00519523', 'WAIMANALO EXPERIMENTAL FARM, HI US', 21.33556, -157.71139, 19.5),\n",
       " ('USC00519281', 'WAIHEE 837.5, HI US', 21.45167, -157.84888999999995, 32.9),\n",
       " ('USC00511918', 'HONOLULU OBSERVATORY 702.2, HI US', 21.3152, -157.9992, 0.9),\n",
       " ('USC00516128', 'MANOA LYON ARBO 785.2, HI US', 21.3331, -157.8025, 152.4)]"
      ]
     },
     "execution_count": 5,
     "metadata": {},
     "output_type": "execute_result"
    }
   ],
   "source": [
    "conn = engine.connect()\n",
    "conn.execute(\"select * from stations\").fetchall()"
   ]
  },
  {
   "cell_type": "code",
   "execution_count": 6,
   "metadata": {},
   "outputs": [],
   "source": [
    "Measurement = Base.classes.prcp_measurements\n",
    "Station = Base.classes.stations\n",
    "Temp_Measurement = Base.classes.temp_measurements"
   ]
  },
  {
   "cell_type": "code",
   "execution_count": 7,
   "metadata": {},
   "outputs": [],
   "source": [
    "session = sqlalchemy.orm.Session(bind = engine)"
   ]
  },
  {
   "cell_type": "code",
   "execution_count": 8,
   "metadata": {},
   "outputs": [
    {
     "name": "stdout",
     "output_type": "stream",
     "text": [
      "USC00519397\n",
      "USC00513117\n",
      "USC00514830\n",
      "USC00517948\n",
      "USC00518838\n",
      "USC00519523\n",
      "USC00519281\n",
      "USC00511918\n",
      "USC00516128\n"
     ]
    }
   ],
   "source": [
    "for station in session.query(Station):\n",
    "    print(station.station_id)"
   ]
  },
  {
   "cell_type": "code",
   "execution_count": null,
   "metadata": {},
   "outputs": [],
   "source": []
  },
  {
   "cell_type": "code",
   "execution_count": 48,
   "metadata": {},
   "outputs": [
    {
     "data": {
      "text/plain": [
       "'2017-08-23'"
      ]
     },
     "execution_count": 48,
     "metadata": {},
     "output_type": "execute_result"
    }
   ],
   "source": [
    "#find last data date\n",
    "data_last_date = session.query(Measurement.date).order_by(Measurement.date.desc()).first()[0]\n",
    "data_last_date"
   ]
  },
  {
   "cell_type": "code",
   "execution_count": 51,
   "metadata": {},
   "outputs": [
    {
     "data": {
      "text/plain": [
       "'2016-08-23'"
      ]
     },
     "execution_count": 51,
     "metadata": {},
     "output_type": "execute_result"
    }
   ],
   "source": [
    "data_start_date_dt = dt.datetime.strptime(data_last_date , \"%Y-%m-%d\")\\\n",
    "    - dt.timedelta(365)\n",
    "data_start_date = data_start_date_dt.strftime(\"%Y-%m-%d\")\n",
    "data_start_date"
   ]
  },
  {
   "cell_type": "code",
   "execution_count": null,
   "metadata": {},
   "outputs": [],
   "source": []
  },
  {
   "cell_type": "code",
   "execution_count": 55,
   "metadata": {},
   "outputs": [
    {
     "data": {
      "text/plain": [
       "{'date': '2017-08-22', 'prcp': 0.5, 'station_id': 'USC00516128'}"
      ]
     },
     "execution_count": 55,
     "metadata": {},
     "output_type": "execute_result"
    }
   ],
   "source": [
    "results = session.query(Measurement).filter(Measurement.date < data_last_date).filter(Measurement.date > data_start_date).all()\n",
    "prcp_data = {}\n",
    "for res in results:\n",
    "    prcp_data[res.measurement_id] = {\n",
    "        'date': res.date,\n",
    "        'prcp': res.prcp,\n",
    "        'station_id': res.station_id\n",
    "    }\n",
    "prcp_data[res.measurement_id] "
   ]
  },
  {
   "cell_type": "code",
   "execution_count": null,
   "metadata": {},
   "outputs": [],
   "source": []
  },
  {
   "cell_type": "code",
   "execution_count": null,
   "metadata": {},
   "outputs": [],
   "source": []
  },
  {
   "cell_type": "code",
   "execution_count": 56,
   "metadata": {},
   "outputs": [
    {
     "data": {
      "text/html": [
       "<div>\n",
       "<style scoped>\n",
       "    .dataframe tbody tr th:only-of-type {\n",
       "        vertical-align: middle;\n",
       "    }\n",
       "\n",
       "    .dataframe tbody tr th {\n",
       "        vertical-align: top;\n",
       "    }\n",
       "\n",
       "    .dataframe thead th {\n",
       "        text-align: right;\n",
       "    }\n",
       "</style>\n",
       "<table border=\"1\" class=\"dataframe\">\n",
       "  <thead>\n",
       "    <tr style=\"text-align: right;\">\n",
       "      <th></th>\n",
       "      <th>date</th>\n",
       "      <th>prcp</th>\n",
       "      <th>station_id</th>\n",
       "    </tr>\n",
       "  </thead>\n",
       "  <tbody>\n",
       "    <tr>\n",
       "      <th>2364</th>\n",
       "      <td>2016-08-24</td>\n",
       "      <td>0.08</td>\n",
       "      <td>USC00519397</td>\n",
       "    </tr>\n",
       "    <tr>\n",
       "      <th>2365</th>\n",
       "      <td>2016-08-25</td>\n",
       "      <td>0.08</td>\n",
       "      <td>USC00519397</td>\n",
       "    </tr>\n",
       "    <tr>\n",
       "      <th>2366</th>\n",
       "      <td>2016-08-26</td>\n",
       "      <td>0</td>\n",
       "      <td>USC00519397</td>\n",
       "    </tr>\n",
       "    <tr>\n",
       "      <th>2367</th>\n",
       "      <td>2016-08-27</td>\n",
       "      <td>0</td>\n",
       "      <td>USC00519397</td>\n",
       "    </tr>\n",
       "    <tr>\n",
       "      <th>2368</th>\n",
       "      <td>2016-08-28</td>\n",
       "      <td>0.01</td>\n",
       "      <td>USC00519397</td>\n",
       "    </tr>\n",
       "  </tbody>\n",
       "</table>\n",
       "</div>"
      ],
      "text/plain": [
       "            date  prcp   station_id\n",
       "2364  2016-08-24  0.08  USC00519397\n",
       "2365  2016-08-25  0.08  USC00519397\n",
       "2366  2016-08-26     0  USC00519397\n",
       "2367  2016-08-27     0  USC00519397\n",
       "2368  2016-08-28  0.01  USC00519397"
      ]
     },
     "execution_count": 56,
     "metadata": {},
     "output_type": "execute_result"
    }
   ],
   "source": [
    "prcp_df = pd.DataFrame(prcp_data).T\n",
    "prcp_df.head()"
   ]
  },
  {
   "cell_type": "code",
   "execution_count": 106,
   "metadata": {},
   "outputs": [
    {
     "data": {
      "image/png": "[encoded data removed]",
      "text/plain": [
       "<matplotlib.figure.Figure at 0x17db24198>"
      ]
     },
     "metadata": {},
     "output_type": "display_data"
    },
    {
     "data": {
      "image/png": "[encoded data removed]",
      "text/plain": [
       "<matplotlib.figure.Figure at 0x117f5b860>"
      ]
     },
     "metadata": {},
     "output_type": "display_data"
    },
    {
     "data": {
      "image/png": "[encoded data removed]",
      "text/plain": [
       "<matplotlib.figure.Figure at 0x1180217b8>"
      ]
     },
     "metadata": {},
     "output_type": "display_data"
    },
    {
     "data": {
      "image/png": "[encoded data removed]",
      "text/plain": [
       "<matplotlib.figure.Figure at 0x1181831d0>"
      ]
     },
     "metadata": {},
     "output_type": "display_data"
    },
    {
     "data": {
      "image/png": "[encoded data removed]",
      "text/plain": [
       "<matplotlib.figure.Figure at 0x116d77128>"
      ]
     },
     "metadata": {},
     "output_type": "display_data"
    },
    {
     "data": {
      "image/png": "[encoded data removed]",
      "text/plain": [
       "<matplotlib.figure.Figure at 0x117a970b8>"
      ]
     },
     "metadata": {},
     "output_type": "display_data"
    },
    {
     "data": {
      "image/png": "[encoded data removed]",
      "text/plain": [
       "<matplotlib.figure.Figure at 0x1182abcf8>"
      ]
     },
     "metadata": {},
     "output_type": "display_data"
    }
   ],
   "source": [
    "for station, dat in prcp_df.groupby(\"station_id\"):\n",
    "    plt.bar(dat['date'], dat['prcp'], label = station, width = 5)\n",
    "    plt.title('PRCP at Station ' + station)\n",
    "    plt.ylabel('PRCP (inches)')\n",
    "    dates = dat['date'].count() #length of data\n",
    "    arange = np.arange(0,dates-1, int(dates/6)) #pick 6 dates for tickmarks\n",
    "    labels = [dat['date'].tolist()[tick] for tick in arange] #date for each tick\n",
    "\n",
    "    plt.xticks(arange, labels, rotation = 20)\n",
    "    plt.xlabel('Date')\n",
    "    plt.show()\n",
    "#plt.legend(loc = 'best')\n",
    "#plt.show()"
   ]
  },
  {
   "cell_type": "code",
   "execution_count": 104,
   "metadata": {},
   "outputs": [
    {
     "data": {
      "image/png": "[encoded data removed]",
      "text/plain": [
       "<matplotlib.figure.Figure at 0x117f6f860>"
      ]
     },
     "metadata": {},
     "output_type": "display_data"
    }
   ],
   "source": [
    "#for testing without looping\n",
    "\n",
    "'''plt.bar(dat['date'], dat['prcp'], label = station, width = 5)\n",
    "plt.title('PRCP at Station ' + station)\n",
    "plt.ylabel('PRCP (inches)')\n",
    "dates = dat['date'].count() #length of data\n",
    "arange = np.arange(0,dates-1, int(dates/8)) #pick 8 dates for tickmarks\n",
    "labels = [dat['date'].tolist()[tick] for tick in arange] #date for each tick\n",
    "arange = np.append(arange,(dates-1)) #add on an end date\n",
    "labels.append(dat['date'].tolist()[dates-1])\n",
    "plt.xticks(arange, labels, rotation = 20)\n",
    "plt.xlabel('Date')\n",
    "plt.show()'''"
   ]
  },
  {
   "cell_type": "code",
   "execution_count": 86,
   "metadata": {},
   "outputs": [
    {
     "data": {
      "text/html": [
       "<div>\n",
       "<style scoped>\n",
       "    .dataframe tbody tr th:only-of-type {\n",
       "        vertical-align: middle;\n",
       "    }\n",
       "\n",
       "    .dataframe tbody tr th {\n",
       "        vertical-align: top;\n",
       "    }\n",
       "\n",
       "    .dataframe thead th {\n",
       "        text-align: right;\n",
       "    }\n",
       "</style>\n",
       "<table border=\"1\" class=\"dataframe\">\n",
       "  <thead>\n",
       "    <tr style=\"text-align: right;\">\n",
       "      <th></th>\n",
       "      <th># entries</th>\n",
       "    </tr>\n",
       "    <tr>\n",
       "      <th>station_id</th>\n",
       "      <th></th>\n",
       "    </tr>\n",
       "  </thead>\n",
       "  <tbody>\n",
       "    <tr>\n",
       "      <th>USC00519397</th>\n",
       "      <td>357</td>\n",
       "    </tr>\n",
       "    <tr>\n",
       "      <th>USC00519281</th>\n",
       "      <td>351</td>\n",
       "    </tr>\n",
       "    <tr>\n",
       "      <th>USC00513117</th>\n",
       "      <td>342</td>\n",
       "    </tr>\n",
       "    <tr>\n",
       "      <th>USC00516128</th>\n",
       "      <td>326</td>\n",
       "    </tr>\n",
       "    <tr>\n",
       "      <th>USC00519523</th>\n",
       "      <td>312</td>\n",
       "    </tr>\n",
       "    <tr>\n",
       "      <th>USC00514830</th>\n",
       "      <td>263</td>\n",
       "    </tr>\n",
       "    <tr>\n",
       "      <th>USC00517948</th>\n",
       "      <td>60</td>\n",
       "    </tr>\n",
       "  </tbody>\n",
       "</table>\n",
       "</div>"
      ],
      "text/plain": [
       "             # entries\n",
       "station_id            \n",
       "USC00519397        357\n",
       "USC00519281        351\n",
       "USC00513117        342\n",
       "USC00516128        326\n",
       "USC00519523        312\n",
       "USC00514830        263\n",
       "USC00517948         60"
      ]
     },
     "execution_count": 86,
     "metadata": {},
     "output_type": "execute_result"
    }
   ],
   "source": [
    "station_entries_df = prcp_df.groupby(\"station_id\").count().sort_values('prcp', ascending = False)[[\"date\"]].rename(columns = {\"date\": \"# entries\"})\n",
    "station_entries_df\n",
    "#temp_results.group_by(\"station_id\")"
   ]
  },
  {
   "cell_type": "code",
   "execution_count": 87,
   "metadata": {},
   "outputs": [
    {
     "name": "stdout",
     "output_type": "stream",
     "text": [
      "The station with the most observations is station USC00519397\n",
      "Location - WAIKIKI 717.2, HI US\n"
     ]
    }
   ],
   "source": [
    "top_station_id = station_entries_df.reset_index().loc[0,\"station_id\"]\n",
    "print(\"The station with the most observations is station\", top_station_id)\n",
    "top_station_loc = session.query(Station.name).filter(Station.station_id == top_station_id).first()[0]\n",
    "print(\"Location -\", top_station_loc)"
   ]
  },
  {
   "cell_type": "code",
   "execution_count": 88,
   "metadata": {},
   "outputs": [
    {
     "name": "stdout",
     "output_type": "stream",
     "text": [
      "Number of Stations in Station Table - 9\n",
      "Number of Stations in data tables should be the same - 9 - and is the same\n"
     ]
    }
   ],
   "source": [
    "stations_in_Station = session.query(Station).count()\n",
    "print(\"Number of Stations in Station Table -\", stations_in_Station)\n",
    "stations_in_data = session.query(Measurement).group_by(\"station_id\").count()\n",
    "print(\"Number of Stations in data tables should be the same -\", stations_in_data, end = \" - \")\n",
    "if stations_in_Station == stations_in_data:\n",
    "    print(\"and is the same\")\n",
    "else:\n",
    "    print(\"but is not\", end = \" \")\n",
    "if stations_in_data > stations_in_Station:\n",
    "    print(\"and that is a problem since the station data cannot map fully onto the overall data\")"
   ]
  },
  {
   "cell_type": "code",
   "execution_count": 89,
   "metadata": {},
   "outputs": [
    {
     "data": {
      "text/plain": [
       "('2010-01-01')"
      ]
     },
     "execution_count": 89,
     "metadata": {},
     "output_type": "execute_result"
    }
   ],
   "source": [
    "data_first_date = session.query(Measurement.date).order_by(Measurement.date).first()\n",
    "data_first_date"
   ]
  },
  {
   "cell_type": "code",
   "execution_count": 90,
   "metadata": {},
   "outputs": [
    {
     "data": {
      "text/plain": [
       "('2017-08-23')"
      ]
     },
     "execution_count": 90,
     "metadata": {},
     "output_type": "execute_result"
    }
   ],
   "source": [
    "data_last_date = session.query(Measurement.date).order_by(Measurement.date.desc()).first()\n",
    "data_last_date"
   ]
  },
  {
   "cell_type": "code",
   "execution_count": 91,
   "metadata": {},
   "outputs": [],
   "source": [
    "analysis_length = 365\n",
    "analysis_end = dt.datetime.strptime(data_last_date[0] , \"%Y-%m-%d\")\n",
    "analysis_begin = dt.datetime.strptime(data_last_date[0] , \"%Y-%m-%d\") - dt.timedelta(analysis_length)"
   ]
  },
  {
   "cell_type": "code",
   "execution_count": 92,
   "metadata": {},
   "outputs": [],
   "source": [
    "#get all of prcp data within last year for most prominent station\n",
    "prcp_results = session.query(Measurement)\\\n",
    "    .filter(Measurement.date > analysis_begin)\\\n",
    "    .filter(Measurement.date < analysis_end)\\\n",
    "    .filter(Temp_Measurement.station_id == top_station_id)\n",
    "#populating dictionary for precipitation data for plotting, etc\n",
    "prcp_data = {}\n",
    "for result in prcp_results:\n",
    "    prcp_data[result.measurement_id] = {\"date\": result.date, \"station_id\": result.station_id, \"prcp\": result.prcp}\n",
    "    "
   ]
  },
  {
   "cell_type": "code",
   "execution_count": 93,
   "metadata": {},
   "outputs": [],
   "source": [
    "#same as above but for temps, should be longer since temp data is more complete\n",
    "temp_results = session.query(Temp_Measurement)\\\n",
    "    .filter(Temp_Measurement.date > analysis_begin)\\\n",
    "    .filter(Temp_Measurement.date < analysis_end)\\\n",
    "    .filter(Temp_Measurement.station_id == top_station_id)\n",
    "#populating dictionary for temperature data for plotting, etc\n",
    "temp_data = {}\n",
    "for result in temp_results:\n",
    "    temp_data[result.measurement_id] = {\"date\": result.date, \"station_id\": result.station_id, \"temp\": result.tobs}\n",
    "    "
   ]
  },
  {
   "cell_type": "code",
   "execution_count": 94,
   "metadata": {},
   "outputs": [],
   "source": [
    "temp_df = pd.DataFrame(temp_data).T\n",
    "temp_df.head()\n",
    "temps_list = []\n",
    "for m_id in temp_data:\n",
    "    temps_list.append(temp_data[m_id][\"temp\"])"
   ]
  },
  {
   "cell_type": "code",
   "execution_count": 96,
   "metadata": {
    "scrolled": true
   },
   "outputs": [
    {
     "data": {
      "image/png": "[encoded data removed]",
      "text/plain": [
       "<matplotlib.figure.Figure at 0x116bf1be0>"
      ]
     },
     "metadata": {},
     "output_type": "display_data"
    }
   ],
   "source": [
    "#temp_df = pd.DataFrame(temp_data).T\n",
    "\n",
    "plt.hist(temps_list, bins = 12)\n",
    "plt.title(top_station_id + \" Histogram of Temperatures\")\n",
    "plt.xlabel('Temp (F)')\n",
    "plt.ylabel('Number of Days Observed')\n",
    "plt.show()"
   ]
  },
  {
   "cell_type": "code",
   "execution_count": null,
   "metadata": {
    "collapsed": true
   },
   "outputs": [],
   "source": []
  },
  {
   "cell_type": "code",
   "execution_count": null,
   "metadata": {
    "collapsed": true
   },
   "outputs": [],
   "source": []
  }
 ],
 "metadata": {
  "kernelspec": {
   "display_name": "Python 3",
   "language": "python",
   "name": "python3"
  },
  "language_info": {
   "codemirror_mode": {
    "name": "ipython",
    "version": 3
   },
   "file_extension": ".py",
   "mimetype": "text/x-python",
   "name": "python",
   "nbconvert_exporter": "python",
   "pygments_lexer": "ipython3",
   "version": "3.6.4"
  }
 },
 "nbformat": 4,
 "nbformat_minor": 2
}
