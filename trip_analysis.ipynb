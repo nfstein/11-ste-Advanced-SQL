{
 "cells": [
  {
   "cell_type": "code",
   "execution_count": 115,
   "metadata": {},
   "outputs": [],
   "source": [
    "import pandas as pd\n",
    "from random import randint, sample\n",
    "import datetime as dt\n",
    "import matplotlib.pyplot as plt\n",
    "plt.style.use('ggplot')\n",
    "import numpy as np\n",
    "\n",
    "# Import SQL Alchemy\n",
    "import sqlalchemy\n",
    "from sqlalchemy.sql import func\n",
    "from sqlalchemy.orm import Session\n",
    "\n",
    "# Import and establish Base for which classes will be constructed \n",
    "from sqlalchemy.ext.automap import automap_base\n",
    "Base = automap_base()"
   ]
  },
  {
   "cell_type": "code",
   "execution_count": 114,
   "metadata": {},
   "outputs": [],
   "source": [
    "#communicate with sqlite database\n",
    "engine = sqlalchemy.create_engine(\"sqlite:///sql/hawaii.sqlite\", echo = False)\n",
    "session = Session(bind = engine)"
   ]
  },
  {
   "cell_type": "code",
   "execution_count": 3,
   "metadata": {},
   "outputs": [],
   "source": [
    "Base.prepare(engine, reflect = True)"
   ]
  },
  {
   "cell_type": "code",
   "execution_count": 4,
   "metadata": {},
   "outputs": [
    {
     "data": {
      "text/plain": [
       "['prcp_measurements', 'stations', 'temp_measurements']"
      ]
     },
     "execution_count": 4,
     "metadata": {},
     "output_type": "execute_result"
    }
   ],
   "source": [
    "Base.classes.keys() #confirm keys of tables"
   ]
  },
  {
   "cell_type": "code",
   "execution_count": 5,
   "metadata": {},
   "outputs": [
    {
     "data": {
      "text/plain": [
       "[('USC00519397', 'WAIKIKI 717.2, HI US', 21.2716, -157.8168, 3.0),\n",
       " ('USC00513117', 'KANEOHE 838.1, HI US', 21.4234, -157.8015, 14.6),\n",
       " ('USC00514830', 'KUALOA RANCH HEADQUARTERS 886.9, HI US', 21.5213, -157.8374, 7.0),\n",
       " ('USC00517948', 'PEARL CITY, HI US', 21.3934, -157.9751, 11.9),\n",
       " ('USC00518838', 'UPPER WAHIAWA 874.3, HI US', 21.4992, -158.0111, 306.6),\n",
       " ('USC00519523', 'WAIMANALO EXPERIMENTAL FARM, HI US', 21.33556, -157.71139, 19.5),\n",
       " ('USC00519281', 'WAIHEE 837.5, HI US', 21.45167, -157.84888999999995, 32.9),\n",
       " ('USC00511918', 'HONOLULU OBSERVATORY 702.2, HI US', 21.3152, -157.9992, 0.9),\n",
       " ('USC00516128', 'MANOA LYON ARBO 785.2, HI US', 21.3331, -157.8025, 152.4)]"
      ]
     },
     "execution_count": 5,
     "metadata": {},
     "output_type": "execute_result"
    }
   ],
   "source": [
    "conn = engine.connect()\n",
    "conn.execute(\"select * from stations\").fetchall()"
   ]
  },
  {
   "cell_type": "code",
   "execution_count": 6,
   "metadata": {},
   "outputs": [],
   "source": [
    "#create table classes\n",
    "Measurement = Base.classes.prcp_measurements\n",
    "Station = Base.classes.stations\n",
    "Temp_Measurement = Base.classes.temp_measurements"
   ]
  },
  {
   "cell_type": "code",
   "execution_count": 7,
   "metadata": {},
   "outputs": [],
   "source": [
    "session = sqlalchemy.orm.Session(bind = engine)"
   ]
  },
  {
   "cell_type": "code",
   "execution_count": 8,
   "metadata": {},
   "outputs": [
    {
     "name": "stdout",
     "output_type": "stream",
     "text": [
      "USC00519397\n",
      "USC00513117\n",
      "USC00514830\n",
      "USC00517948\n",
      "USC00518838\n",
      "USC00519523\n",
      "USC00519281\n",
      "USC00511918\n",
      "USC00516128\n"
     ]
    }
   ],
   "source": [
    "for station in session.query(Station):\n",
    "    print(station.station_id)"
   ]
  },
  {
   "cell_type": "code",
   "execution_count": 9,
   "metadata": {},
   "outputs": [
    {
     "data": {
      "text/plain": [
       "('2010-01-01')"
      ]
     },
     "execution_count": 9,
     "metadata": {},
     "output_type": "execute_result"
    }
   ],
   "source": [
    "data_first_date = session.query(Measurement.date).order_by(Measurement.date).first()\n",
    "data_first_date"
   ]
  },
  {
   "cell_type": "code",
   "execution_count": 10,
   "metadata": {},
   "outputs": [],
   "source": [
    "data_last_date = session.query(Measurement.date).order_by(Measurement.date.desc()).first()"
   ]
  },
  {
   "cell_type": "code",
   "execution_count": 11,
   "metadata": {},
   "outputs": [],
   "source": [
    "trip_length = 8#randint(5,15)\n"
   ]
  },
  {
   "cell_type": "code",
   "execution_count": 12,
   "metadata": {},
   "outputs": [],
   "source": [
    "delta = dt.datetime.strptime(data_last_date[0] , \"%Y-%m-%d\") - dt.datetime.strptime(data_first_date[0] , \"%Y-%m-%d\")\n",
    "available_travel_days = delta.days - trip_length"
   ]
  },
  {
   "cell_type": "code",
   "execution_count": 13,
   "metadata": {},
   "outputs": [],
   "source": [
    "trip_start_date_dt = dt.datetime.strptime(data_first_date[0] , \"%Y-%m-%d\")\\\n",
    "    + dt.timedelta(randint(365,available_travel_days))\n",
    "trip_end_date_dt = trip_start_date_dt + dt.timedelta(trip_length+1)\n",
    "\n",
    "trip_start_date = trip_start_date_dt.strftime(\"%Y-%m-%d\")\n",
    "trip_end_date = trip_end_date_dt.strftime(\"%Y-%m-%d\")"
   ]
  },
  {
   "cell_type": "code",
   "execution_count": 14,
   "metadata": {},
   "outputs": [],
   "source": [
    "#results = session.query(Measurement)."
   ]
  },
  {
   "cell_type": "code",
   "execution_count": 15,
   "metadata": {},
   "outputs": [],
   "source": [
    "results = session.query(Measurement).filter(Measurement.date > trip_start_date).filter(Measurement.date < trip_end_date)\n",
    "trip_prcp_data = {}\n",
    "for result in results:\n",
    "    if result.station_id not in trip_prcp_data:\n",
    "        trip_prcp_data[result.measurement_id] = {\"date\": result.date, \"station_id\": result.station_id, \"prcp\": result.prcp}\n",
    "    "
   ]
  },
  {
   "cell_type": "code",
   "execution_count": 16,
   "metadata": {},
   "outputs": [],
   "source": [
    "results = session.query(Temp_Measurement).filter(Temp_Measurement.date > trip_start_date).filter(Temp_Measurement.date < trip_end_date)\n",
    "trip_temp_data = {}\n",
    "for result in results:\n",
    "    if result.station_id not in trip_temp_data:\n",
    "        trip_temp_data[result.measurement_id] = {\"date\": result.date, \"station_id\": result.station_id, \"temp\": result.tobs}\n",
    "    "
   ]
  },
  {
   "cell_type": "code",
   "execution_count": 17,
   "metadata": {},
   "outputs": [
    {
     "name": "stdout",
     "output_type": "stream",
     "text": [
      "['USC00511918', 'USC00513117', 'USC00516128', 'USC00519281']\n",
      "             date  prcp\n",
      "station_id             \n",
      "USC00511918     8     8\n",
      "USC00513117     8     8\n",
      "USC00514830     4     4\n",
      "USC00516128     8     8\n",
      "USC00517948     5     5\n",
      "USC00518838     5     5\n",
      "USC00519281     8     8\n",
      "USC00519397     4     4\n",
      "USC00519523     7     7\n"
     ]
    }
   ],
   "source": [
    "#filtering for stations with complete prcp data for trip\n",
    "\n",
    "df = pd.DataFrame(trip_prcp_data).T.groupby(\"station_id\").count()\n",
    "stations = []\n",
    "for i in df.index:\n",
    "    if df.loc[i,\"date\"] == trip_length:\n",
    "        stations.append(i)\n",
    "print(stations)\n",
    "print(df)"
   ]
  },
  {
   "cell_type": "code",
   "execution_count": 124,
   "metadata": {},
   "outputs": [
    {
     "data": {
      "image/png": "[encoded data removed]",
      "text/plain": [
       "<matplotlib.figure.Figure at 0x115f30898>"
      ]
     },
     "metadata": {},
     "output_type": "display_data"
    }
   ],
   "source": [
    "prcp_df = pd.DataFrame(trip_prcp_data).T\n",
    "\n",
    "prcp_df = prcp_df[prcp_df.station_id.isin(stations)]\n",
    "for station, dat in prcp_df.groupby(\"station_id\"):\n",
    "    plt.plot(dat['date'], dat['prcp'], label = station)\n",
    "plt.legend(loc = 'best')\n",
    "plt.title(\"Precipitation by Station during Trip\")\n",
    "plt.ylabel(\"Prcp (inches)\")\n",
    "\n",
    "#tick every other day and last day skipping second to last for whatever trip length is, breaks for really long trips\n",
    "arange = np.arange(0, trip_length-2, 2) #every other day except last 2\n",
    "labels = [dat['date'].tolist()[tick] for tick in arange] #date of each\n",
    "arange = np.append(np.arange(0, trip_length-2, 2),trip_length-1) #add last day tick\n",
    "labels.append(dat['date'].tolist()[trip_length-1])#add last date\n",
    "\n",
    "plt.xticks(arange, labels, rotation= 20) \n",
    "plt.show()"
   ]
  },
  {
   "cell_type": "code",
   "execution_count": 123,
   "metadata": {},
   "outputs": [
    {
     "data": {
      "text/plain": [
       "array([0, 2, 4])"
      ]
     },
     "execution_count": 123,
     "metadata": {},
     "output_type": "execute_result"
    }
   ],
   "source": []
  },
  {
   "cell_type": "code",
   "execution_count": 19,
   "metadata": {},
   "outputs": [
    {
     "data": {
      "text/html": [
       "<div>\n",
       "<style scoped>\n",
       "    .dataframe tbody tr th:only-of-type {\n",
       "        vertical-align: middle;\n",
       "    }\n",
       "\n",
       "    .dataframe tbody tr th {\n",
       "        vertical-align: top;\n",
       "    }\n",
       "\n",
       "    .dataframe thead th {\n",
       "        text-align: right;\n",
       "    }\n",
       "</style>\n",
       "<table border=\"1\" class=\"dataframe\">\n",
       "  <thead>\n",
       "    <tr style=\"text-align: right;\">\n",
       "      <th></th>\n",
       "      <th>date</th>\n",
       "      <th>temp</th>\n",
       "    </tr>\n",
       "    <tr>\n",
       "      <th>station_id</th>\n",
       "      <th></th>\n",
       "      <th></th>\n",
       "    </tr>\n",
       "  </thead>\n",
       "  <tbody>\n",
       "    <tr>\n",
       "      <th>USC00511918</th>\n",
       "      <td>8</td>\n",
       "      <td>8</td>\n",
       "    </tr>\n",
       "    <tr>\n",
       "      <th>USC00513117</th>\n",
       "      <td>8</td>\n",
       "      <td>8</td>\n",
       "    </tr>\n",
       "    <tr>\n",
       "      <th>USC00514830</th>\n",
       "      <td>6</td>\n",
       "      <td>6</td>\n",
       "    </tr>\n",
       "    <tr>\n",
       "      <th>USC00516128</th>\n",
       "      <td>8</td>\n",
       "      <td>8</td>\n",
       "    </tr>\n",
       "    <tr>\n",
       "      <th>USC00517948</th>\n",
       "      <td>6</td>\n",
       "      <td>6</td>\n",
       "    </tr>\n",
       "    <tr>\n",
       "      <th>USC00518838</th>\n",
       "      <td>6</td>\n",
       "      <td>6</td>\n",
       "    </tr>\n",
       "    <tr>\n",
       "      <th>USC00519281</th>\n",
       "      <td>8</td>\n",
       "      <td>8</td>\n",
       "    </tr>\n",
       "    <tr>\n",
       "      <th>USC00519397</th>\n",
       "      <td>5</td>\n",
       "      <td>5</td>\n",
       "    </tr>\n",
       "    <tr>\n",
       "      <th>USC00519523</th>\n",
       "      <td>7</td>\n",
       "      <td>7</td>\n",
       "    </tr>\n",
       "  </tbody>\n",
       "</table>\n",
       "</div>"
      ],
      "text/plain": [
       "             date  temp\n",
       "station_id             \n",
       "USC00511918     8     8\n",
       "USC00513117     8     8\n",
       "USC00514830     6     6\n",
       "USC00516128     8     8\n",
       "USC00517948     6     6\n",
       "USC00518838     6     6\n",
       "USC00519281     8     8\n",
       "USC00519397     5     5\n",
       "USC00519523     7     7"
      ]
     },
     "execution_count": 19,
     "metadata": {},
     "output_type": "execute_result"
    }
   ],
   "source": [
    "pd.DataFrame(trip_temp_data).T.groupby(\"station_id\").count()"
   ]
  },
  {
   "cell_type": "code",
   "execution_count": 20,
   "metadata": {},
   "outputs": [
    {
     "name": "stdout",
     "output_type": "stream",
     "text": [
      "['USC00511918', 'USC00513117', 'USC00516128', 'USC00519281']\n",
      "             date  temp\n",
      "station_id             \n",
      "USC00511918     8     8\n",
      "USC00513117     8     8\n",
      "USC00514830     6     6\n",
      "USC00516128     8     8\n",
      "USC00517948     6     6\n",
      "USC00518838     6     6\n",
      "USC00519281     8     8\n",
      "USC00519397     5     5\n",
      "USC00519523     7     7\n"
     ]
    }
   ],
   "source": [
    "#filtering for stations with complete data during trip\n",
    "\n",
    "temp_df = pd.DataFrame(trip_temp_data).T.groupby(\"station_id\").count()\n",
    "stations = []\n",
    "for i in temp_df.index:\n",
    "    if temp_df.loc[i,\"date\"] == trip_length:\n",
    "        stations.append(i)\n",
    "print(stations)\n",
    "print(temp_df)"
   ]
  },
  {
   "cell_type": "code",
   "execution_count": 125,
   "metadata": {},
   "outputs": [
    {
     "data": {
      "image/png": "[encoded data removed]",
      "text/plain": [
       "<matplotlib.figure.Figure at 0x1168eb0b8>"
      ]
     },
     "metadata": {},
     "output_type": "display_data"
    }
   ],
   "source": [
    "temp_df = pd.DataFrame(trip_temp_data).T\n",
    "\n",
    "temp_df = temp_df[temp_df.station_id.isin(stations)]\n",
    "for station, dat in temp_df.groupby(\"station_id\"):\n",
    "    plt.plot(dat['date'], dat['temp'], label = station)\n",
    "plt.legend(loc = 'best')\n",
    "plt.title(\"Trip Temp Range by Station\")\n",
    "plt.ylabel(\"Temp (F)\")\n",
    "\n",
    "#tick every other day and last day skipping second to last for whatever trip length is, breaks for really long trips\n",
    "arange = np.arange(0, trip_length-2, 2) #every other day except last 2\n",
    "labels = [dat['date'].tolist()[tick] for tick in arange] #date of each\n",
    "arange = np.append(np.arange(0, trip_length-2, 2),trip_length-1) #add last day tick\n",
    "labels.append(dat['date'].tolist()[trip_length-1])#add last date\n",
    "\n",
    "plt.xticks(arange, labels, rotation= 20) \n",
    "plt.show()"
   ]
  },
  {
   "cell_type": "code",
   "execution_count": 22,
   "metadata": {},
   "outputs": [],
   "source": [
    "def calc_temps(start_date, end_date):\n",
    "\n",
    "    temps = session.query(func.max(Temp_Measurement.tobs).label(\"max temp\"),\\\n",
    "                         func.min(Temp_Measurement.tobs).label(\"min temp\"),\\\n",
    "                         func.avg(Temp_Measurement.tobs).label(\"mean temp\"))\\\n",
    "        .filter(Temp_Measurement.date >= start_date)\\\n",
    "        .filter(Temp_Measurement.date <= end_date).all()[0]\n",
    "    \n",
    "    return temps\n"
   ]
  },
  {
   "cell_type": "code",
   "execution_count": 23,
   "metadata": {},
   "outputs": [],
   "source": [
    "start_date_1ya_dt = trip_start_date_dt - dt.timedelta(365)\n",
    "start_date_1ya = start_date_1ya_dt.strftime(\"%Y-%m-%d\")\n",
    "end_date_1ya_dt = trip_end_date_dt - dt.timedelta(365)\n",
    "end_date_1ya = end_date_1ya_dt.strftime(\"%Y-%m-%d\")\n",
    "\n",
    "(max_temp, min_temp, avg_temp) = calc_temps(start_date_1ya, end_date_1ya)"
   ]
  },
  {
   "cell_type": "code",
   "execution_count": 119,
   "metadata": {},
   "outputs": [
    {
     "data": {
      "image/png": "[encoded data removed]",
      "text/plain": [
       "<matplotlib.figure.Figure at 0x115d08160>"
      ]
     },
     "metadata": {},
     "output_type": "display_data"
    }
   ],
   "source": [
    "plt.figure(figsize=(1,5))\n",
    "plt.bar([0] ,height = avg_temp, width = .5, color = 'orange', tick_label = ['Trip'], )\n",
    "plt.errorbar([0],avg_temp, yerr = [[-max_temp+avg_temp],[min_temp-avg_temp]], barsabove = True, capsize = 5, color ='black')\n",
    "plt.title(\"Trip Temp Range\")\n",
    "plt.ylabel(\"Temp (F)\")\n",
    "plt.show()"
   ]
  },
  {
   "cell_type": "code",
   "execution_count": null,
   "metadata": {
    "collapsed": true
   },
   "outputs": [],
   "source": []
  }
 ],
 "metadata": {
  "kernelspec": {
   "display_name": "Python 3",
   "language": "python",
   "name": "python3"
  },
  "language_info": {
   "codemirror_mode": {
    "name": "ipython",
    "version": 3
   },
   "file_extension": ".py",
   "mimetype": "text/x-python",
   "name": "python",
   "nbconvert_exporter": "python",
   "pygments_lexer": "ipython3",
   "version": "3.6.4"
  }
 },
 "nbformat": 4,
 "nbformat_minor": 2
}
